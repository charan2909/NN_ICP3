{
  "nbformat": 4,
  "nbformat_minor": 0,
  "metadata": {
    "colab": {
      "provenance": [],
      "authorship_tag": "ABX9TyPzh6SRztAJU5vUwTE7gCat",
      "include_colab_link": true
    },
    "kernelspec": {
      "name": "python3",
      "display_name": "Python 3"
    },
    "language_info": {
      "name": "python"
    }
  },
  "cells": [
    {
      "cell_type": "markdown",
      "metadata": {
        "id": "view-in-github",
        "colab_type": "text"
      },
      "source": [
        "<a href=\"https://colab.research.google.com/github/charan2909/NN_ICP3/blob/main/700754801_ICP_3.ipynb\" target=\"_parent\"><img src=\"https://colab.research.google.com/assets/colab-badge.svg\" alt=\"Open In Colab\"/></a>"
      ]
    },
    {
      "cell_type": "markdown",
      "source": [
        "1.Create a class Employee and then do the following\n",
        "\n",
        " • Create a data member to count the number of Employees\n",
        "\n",
        "\n",
        " • Create a constructor to initialize name, family, salary, department\n",
        "\n",
        " • Create a function to average salary\n",
        "\n",
        " • Create a Fulltime Employee class and it should inherit the properties of Employee class\n",
        "\n",
        " • Create the instances of Fulltime Employee class and Employee class and call their member functions.\n"
      ],
      "metadata": {
        "id": "eFTYLu_2WjCL"
      }
    },
    {
      "cell_type": "code",
      "source": [
        "class Employee:\n",
        "\n",
        "    # declared a data member to count the number of Employees\n",
        "    #initializing to 0\n",
        "    employee_count = 0\n",
        "\n",
        "    # constructor to initialize the object's attributes\n",
        "    def __init__(self, name, family, salary, department):\n",
        "        self.name = name\n",
        "        #self is a instance of class\n",
        "        self.family = family\n",
        "        self.salary = salary\n",
        "        self.department = department\n",
        "        Employee.employee_count += 1\n",
        "\n",
        "    # declared average_salary function to return average salary\n",
        "    def average_salary(employees):\n",
        "        \"\"\"\n",
        "        function to average salary\n",
        "        \"\"\"\n",
        "        sum = 0\n",
        "        for employee in employees:\n",
        "            sum =sum + employee.salary\n",
        "        return sum / Employee.employee_count\n",
        "\n",
        "# Created a Fulltime Employee class and inherited the properties of Employee class\n",
        "class FulltimeEmployee(Employee):\n",
        "\n",
        "\n",
        "    def __init__(self, name, family, salary, department):\n",
        "        super().__init__(name, family, salary, department)\n",
        "\n",
        "    def full_time_member(self):\n",
        "        print(\"Calling FulltimeEmployee member function.\")\n",
        "\n",
        "# Created the instances of Fulltime Employee class and Employee class and calling their member functions.\n",
        "def main():\n",
        "    employees = []\n",
        "    fulltEmployee1 = FulltimeEmployee(\"charan\", \"kamasani\", 170000, \"Data Engineer\")\n",
        "    fulltEmployee1.full_time_member()\n",
        "    employees.append(fulltEmployee1)\n",
        "    fulltEmployee2 = FulltimeEmployee(\"uday\", \"kamasani\", 190000, \"devoleper\")\n",
        "    employees.append(fulltEmployee2)\n",
        "    employee1 = Employee(\"manoj\", \"gurram\", 150000, \"full stack devoleper\")\n",
        "    employees.append(employee1)\n",
        "    employee2 = Employee(\"pradeep\", \"bala\", 290000, \"Product Manager\")\n",
        "    employees.append(employee2)\n",
        "    print(\"Average salary: \", FulltimeEmployee.average_salary(employees))\n",
        "\n",
        "# declared this method to execute code When the file runs as a script.\n",
        "if __name__ == \"__main__\":\n",
        "    main()"
      ],
      "metadata": {
        "colab": {
          "base_uri": "https://localhost:8080/"
        },
        "id": "cmCBLrP1PLBU",
        "outputId": "a5ef33b2-4d5f-45a8-998f-2d6d51a29286"
      },
      "execution_count": 20,
      "outputs": [
        {
          "output_type": "stream",
          "name": "stdout",
          "text": [
            "Calling FulltimeEmployee member function.\n",
            "Average salary:  200000.0\n"
          ]
        }
      ]
    },
    {
      "cell_type": "markdown",
      "source": [
        "2.Numpy\n",
        "\n",
        "Using NumPy create random vector of size 20 having only float in the range 1-20.\n",
        "\n",
        "Then reshape the array to 4 by 5\n",
        "\n",
        "Then replace the max in each row by 0 (axis=1)\n",
        "\n",
        "(you can NOT implement it via for loop)"
      ],
      "metadata": {
        "id": "Hu-vOIW3WhPO"
      }
    },
    {
      "cell_type": "code",
      "source": [
        "import numpy as np\n",
        "\n",
        "# created a random vector of size 20 with float values between 1 and 20\n",
        "rangevec = np.random.uniform(low=1, high=20, size=20)\n",
        "print(rangevec)\n",
        "# reshape the array to 4 by 5 using reshape method\n",
        "new = rangevec.reshape(4, 5)\n",
        "print(new)\n",
        "# replace the max in each row by 0 using where method\n",
        "new = np.where(new == np.amax(new, axis=1, keepdims=True), 0, new)\n",
        "print(new)"
      ],
      "metadata": {
        "colab": {
          "base_uri": "https://localhost:8080/"
        },
        "id": "u7mLOzMJRZbb",
        "outputId": "18783560-d118-4cac-ab99-319c6bfc9120"
      },
      "execution_count": 10,
      "outputs": [
        {
          "output_type": "stream",
          "name": "stdout",
          "text": [
            "[16.45383302  1.72013947 18.1449756  16.57558733  2.15676662 14.69060881\n",
            "  5.98238988  1.81005091 16.08702197  8.34444024 14.35570331  4.143382\n",
            "  3.62487224 17.47229624  8.72502965 19.9575404  13.02584553  2.9342971\n",
            " 11.58001766 17.0270575 ]\n",
            "[[16.45383302  1.72013947 18.1449756  16.57558733  2.15676662]\n",
            " [14.69060881  5.98238988  1.81005091 16.08702197  8.34444024]\n",
            " [14.35570331  4.143382    3.62487224 17.47229624  8.72502965]\n",
            " [19.9575404  13.02584553  2.9342971  11.58001766 17.0270575 ]]\n",
            "[[16.45383302  1.72013947  0.         16.57558733  2.15676662]\n",
            " [14.69060881  5.98238988  1.81005091  0.          8.34444024]\n",
            " [14.35570331  4.143382    3.62487224  0.          8.72502965]\n",
            " [ 0.         13.02584553  2.9342971  11.58001766 17.0270575 ]]\n"
          ]
        }
      ]
    }
  ]
}