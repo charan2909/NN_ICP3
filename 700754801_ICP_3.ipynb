{
  "nbformat": 4,
  "nbformat_minor": 0,
  "metadata": {
    "colab": {
      "provenance": [],
      "toc_visible": true,
      "authorship_tag": "ABX9TyOHkAjFbi2ozBuZfzgG8zrk",
      "include_colab_link": true
    },
    "kernelspec": {
      "name": "python3",
      "display_name": "Python 3"
    },
    "language_info": {
      "name": "python"
    }
  },
  "cells": [
    {
      "cell_type": "markdown",
      "metadata": {
        "id": "view-in-github",
        "colab_type": "text"
      },
      "source": [
        "<a href=\"https://colab.research.google.com/github/charan2909/NN_ICP3/blob/main/700754801_ICP_3.ipynb\" target=\"_parent\"><img src=\"https://colab.research.google.com/assets/colab-badge.svg\" alt=\"Open In Colab\"/></a>"
      ]
    },
    {
      "cell_type": "code",
      "execution_count": 1,
      "metadata": {
        "colab": {
          "base_uri": "https://localhost:8080/"
        },
        "id": "fnXqG8azPH3p",
        "outputId": "13e97224-a4ba-4cd8-87fb-84f3a97b393b"
      },
      "outputs": [
        {
          "output_type": "stream",
          "name": "stdout",
          "text": [
            "[ 4.62390815 13.58509212  1.26116941 14.20363609  3.5079674   2.76292978\n",
            " 10.59627363  9.82830551 11.76242953  3.77701345 14.08798519  4.3671414\n",
            " 12.36854748  6.46712844  8.27134165  5.71897575 15.57315792 14.45392867\n",
            "  9.38026884  3.21638416]\n",
            "[[ 4.62390815 13.58509212  1.26116941 14.20363609  3.5079674 ]\n",
            " [ 2.76292978 10.59627363  9.82830551 11.76242953  3.77701345]\n",
            " [14.08798519  4.3671414  12.36854748  6.46712844  8.27134165]\n",
            " [ 5.71897575 15.57315792 14.45392867  9.38026884  3.21638416]]\n",
            "[[ 4.62390815 13.58509212  1.26116941  0.          3.5079674 ]\n",
            " [ 2.76292978 10.59627363  9.82830551  0.          3.77701345]\n",
            " [ 0.          4.3671414  12.36854748  6.46712844  8.27134165]\n",
            " [ 5.71897575  0.         14.45392867  9.38026884  3.21638416]]\n"
          ]
        }
      ],
      "source": [
        "import numpy as np\n",
        "\n",
        "# created a random vector of size 20 with float values between 1 and 20\n",
        "ranvec = np.random.uniform(low=1, high=20, size=20)\n",
        "print(ranvec)\n",
        "# reshape the array to 4 by 5 using reshape method\n",
        "mat45 = ranvec.reshape(4, 5)\n",
        "print(mat45)\n",
        "# replace the max in each row by 0 using where method\n",
        "mat45 = np.where(mat45 == np.amax(mat45, axis=1, keepdims=True), 0, mat45)\n",
        "print(mat45)"
      ]
    },
    {
      "cell_type": "code",
      "source": [
        "class Employee:\n",
        "\n",
        "    # declared a data member to count the number of Employees\n",
        "    no_of_employees = 0\n",
        "\n",
        "    # constructor to initialize the object's attributes\n",
        "    def __init__(self, name, family_name, salary, department):\n",
        "        self.__name = name\n",
        "        self.__family_name = family_name\n",
        "        self.salary = salary\n",
        "        self.__department = department\n",
        "        Employee.no_of_employees += 1\n",
        "\n",
        "    # declared average_salary function to return average salary\n",
        "    def average_salary(employees):\n",
        "        \"\"\"\n",
        "        function to average salary\n",
        "        \"\"\"\n",
        "        sum = 0\n",
        "        for employee in employees:\n",
        "            sum += employee.salary\n",
        "        return sum / Employee.no_of_employees\n",
        "\n",
        "# Created a Fulltime Employee class and inherited the properties of Employee class\n",
        "class FulltimeEmployee(Employee):\n",
        "    \"\"\"\n",
        "    Full Time Employee is a sub class of Employee\n",
        "    \"\"\"\n",
        "\n",
        "    def __init__(self, name, family_name, salary, department):\n",
        "        super().__init__(name, family_name, salary, department)\n",
        "\n",
        "    def full_time_member(self):\n",
        "        print(\"Calling FulltimeEmployee member function.\")\n",
        "\n",
        "# Created the instances of Fulltime Employee class and Employee class and calling their member functions.\n",
        "def main():\n",
        "    employees = []\n",
        "    ftEmployee1 = FulltimeEmployee(\"charan\", \"kamasani\", 170000, \"Data Engineer\")\n",
        "    ftEmployee1.full_time_member()\n",
        "    employees.append(ftEmployee1)\n",
        "    ftEmployee2 = FulltimeEmployee(\"uday\", \"kamasani\", 190000, \"devoleper\")\n",
        "    employees.append(ftEmployee2)\n",
        "    employee1 = Employee(\"manoj\", \"gurram\", 150000, \"full stack devoleper\")\n",
        "    employees.append(employee1)\n",
        "    employee2 = Employee(\"pradeep\", \"bala\", 290000, \"Product Manager\")\n",
        "    employees.append(employee2)\n",
        "    print(\"Average salary:\", FulltimeEmployee.average_salary(employees))\n",
        "\n",
        "# declared this method to execute code When the file runs as a script.\n",
        "if __name__ == \"__main__\":\n",
        "    main()"
      ],
      "metadata": {
        "colab": {
          "base_uri": "https://localhost:8080/"
        },
        "id": "cmCBLrP1PLBU",
        "outputId": "a7f5992e-389a-4b30-db03-f16b86fd8f8f"
      },
      "execution_count": 6,
      "outputs": [
        {
          "output_type": "stream",
          "name": "stdout",
          "text": [
            "Calling FulltimeEmployee member function.\n",
            "Average salary: 200000.0\n"
          ]
        }
      ]
    }
  ]
}